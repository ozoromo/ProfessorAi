{
 "cells": [
  {
   "attachments": {},
   "cell_type": "markdown",
   "metadata": {},
   "source": [
    "# LibrarianAI\n",
    "A notebook used to store transcrition data in online and local storage as embeddings."
   ]
  },
  {
   "cell_type": "code",
   "execution_count": null,
   "metadata": {},
   "outputs": [],
   "source": [
    "import ipywidgets as widgets\n",
    "import langchain\n",
    "import pinecone\n",
    "import openai\n",
    "import tiktoken\n",
    "import os"
   ]
  },
  {
   "attachments": {},
   "cell_type": "markdown",
   "metadata": {},
   "source": [
    "## All important values here"
   ]
  },
  {
   "cell_type": "code",
   "execution_count": 3,
   "metadata": {},
   "outputs": [],
   "source": [
    "OPENAI_API_KEY = os.environ.get(\"OPENAI_API_KEY\")\n",
    "#PINECONE_API = os.environ.get(\"PINECONE_API_KEY\")\n",
    "#PINCONE_ENV = os.environ.get(\"PINECONE_API_ENV\")"
   ]
  },
  {
   "cell_type": "code",
   "execution_count": 4,
   "metadata": {},
   "outputs": [],
   "source": [
    "#pinecone.init(\n",
    "#    api_key=PINECONE_API,\n",
    "#    environment=PINCONE_ENV\n",
    "#)"
   ]
  },
  {
   "cell_type": "code",
   "execution_count": 5,
   "metadata": {},
   "outputs": [],
   "source": [
    "from langchain.embeddings.openai import OpenAIEmbeddings\n",
    "from langchain.text_splitter import RecursiveCharacterTextSplitter\n",
    "from langchain.vectorstores import Chroma\n",
    "#from langchain.vectorstores import Pinecone\n",
    "from langchain.document_loaders import TextLoader"
   ]
  },
  {
   "cell_type": "code",
   "execution_count": 6,
   "metadata": {},
   "outputs": [],
   "source": [
    "embedding_engine = OpenAIEmbeddings(openai_api_key=OPENAI_API_KEY)\n",
    "text_splitter = RecursiveCharacterTextSplitter(chunk_size=2000, chunk_overlap=200)\n",
    "\n",
    "db = Chroma(embedding_function=embedding_engine, persist_directory=\"./transcription_db/\")\n",
    "#pinecone_db = Pinecone.from_existing_index(embedding=embedding_engine, index_name=\"diskstrukt2023\")"
   ]
  },
  {
   "cell_type": "code",
   "execution_count": 8,
   "metadata": {},
   "outputs": [],
   "source": [
    "for root, dirs, files in os.walk(\"./transcripts/\"):\n",
    "    for file in files:\n",
    "        if (file.endswith(\".txt\")):\n",
    "            # load the document and split it into chunks\n",
    "            loader = TextLoader(os.path.join(root, file))\n",
    "            document = loader.load()\n",
    "            docs = text_splitter.split_documents(document)\n",
    "\n",
    "\n",
    "            db.add_documents(docs)\n",
    "            texts = []\n",
    "            for doc in docs:\n",
    "                pass\n",
    "                #pinecone_db.add_texts(texts=[doc.page_content], metadata={\"text\": doc.page_content})"
   ]
  },
  {
   "attachments": {},
   "cell_type": "markdown",
   "metadata": {},
   "source": [
    "Save the do in order to be able to use it later and upload it."
   ]
  },
  {
   "cell_type": "code",
   "execution_count": null,
   "metadata": {},
   "outputs": [],
   "source": [
    "db.persist()"
   ]
  }
 ],
 "metadata": {
  "kernelspec": {
   "display_name": ".venv",
   "language": "python",
   "name": "python3"
  },
  "language_info": {
   "codemirror_mode": {
    "name": "ipython",
    "version": 3
   },
   "file_extension": ".py",
   "mimetype": "text/x-python",
   "name": "python",
   "nbconvert_exporter": "python",
   "pygments_lexer": "ipython3",
   "version": "3.9.17"
  },
  "orig_nbformat": 4
 },
 "nbformat": 4,
 "nbformat_minor": 2
}
