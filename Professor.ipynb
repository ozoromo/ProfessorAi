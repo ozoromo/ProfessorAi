{
 "cells": [
  {
   "attachments": {},
   "cell_type": "markdown",
   "metadata": {},
   "source": [
    "# ProfessorAI\n",
    "Ask questions and get answers based on lecture content."
   ]
  },
  {
   "cell_type": "code",
   "execution_count": 20,
   "metadata": {},
   "outputs": [],
   "source": [
    "import ipywidgets as widgets\n",
    "import langchain\n",
    "import pinecone\n",
    "import openai\n",
    "import tiktoken\n",
    "import os"
   ]
  },
  {
   "cell_type": "code",
   "execution_count": 21,
   "metadata": {},
   "outputs": [],
   "source": [
    "from langchain.llms import OpenAI\n",
    "from langchain.chat_models import ChatOpenAI\n",
    "from langchain.chains import RetrievalQA\n",
    "from langchain.chains import ConversationalRetrievalChain\n",
    "\n",
    "from langchain.memory import ConversationBufferMemory\n",
    "\n",
    "from langchain.vectorstores import Pinecone\n",
    "from langchain.vectorstores import Chroma\n",
    "from langchain.embeddings.openai import OpenAIEmbeddings"
   ]
  },
  {
   "attachments": {},
   "cell_type": "markdown",
   "metadata": {},
   "source": [
    "# Don't forget to set your API keys"
   ]
  },
  {
   "cell_type": "code",
   "execution_count": 22,
   "metadata": {},
   "outputs": [],
   "source": [
    "OPENAI_API_KEY = os.environ.get(\"OPENAI_API_KEY\")\n",
    "\n",
    "# You only need to set these environment variables if you want to use the Pinecone Vectorstorage\n",
    "PINECONE_API_KEY = os.environ.get(\"PINECONE_API_KEY\")\n",
    "PINCONE_API_ENV = os.environ.get(\"PINECONE_API_ENV\")"
   ]
  },
  {
   "attachments": {},
   "cell_type": "markdown",
   "metadata": {},
   "source": [
    "# ^ ^ ^"
   ]
  },
  {
   "cell_type": "code",
   "execution_count": 23,
   "metadata": {},
   "outputs": [],
   "source": [
    "embeddings_engine = OpenAIEmbeddings(openai_api_key=OPENAI_API_KEY)"
   ]
  },
  {
   "cell_type": "code",
   "execution_count": 24,
   "metadata": {},
   "outputs": [],
   "source": [
    "#pinecone.init(\n",
    "#    api_key=PINECONE_API_KEY,\n",
    "#    environment=PINCONE_API_ENV\n",
    "#)\n",
    "#index_name = \"diskstrukt2023\""
   ]
  },
  {
   "cell_type": "code",
   "execution_count": 25,
   "metadata": {},
   "outputs": [],
   "source": [
    "#db = Pinecone.from_existing_index(index_name=index_name, embedding=embeddings_engine)\n",
    "db = Chroma(persist_directory=\"../transcription_db\", embedding_function=embeddings_engine)"
   ]
  },
  {
   "attachments": {},
   "cell_type": "markdown",
   "metadata": {},
   "source": [
    "Select what AI model to use to get your answer here:"
   ]
  },
  {
   "cell_type": "code",
   "execution_count": 26,
   "metadata": {},
   "outputs": [],
   "source": [
    "# Valid model names as of making are\n",
    "    #\"gpt-4\"\n",
    "    #\"gpt-4-0314\"\n",
    "    #\"gpt-4-0613\"\n",
    "    #\"gpt-4-32k\"\n",
    "    #\"gpt-4-32k-0314\"\n",
    "    #\"gpt-4-32k-0613\"\n",
    "    #\"gpt-3.5-turbo\"\n",
    "    #\"gpt-3.5-turbo-0301\"\n",
    "    #\"gpt-3.5-turbo-0613\"\n",
    "    #\"gpt-3.5-turbo-16k\"\n",
    "    #\"gpt-3.5-turbo-16k-0613\"\n",
    "    #\"text-ada-001\"\n",
    "    #\"ada\"\n",
    "    #\"text-babbage-001\"\n",
    "    #\"babbage\"\n",
    "    #\"text-curie-001\"\n",
    "    #\"curie\"\n",
    "    #\"davinci\"\n",
    "    #\"text-davinci-003\"\n",
    "    #\"text-davinci-002\"\n",
    "    #\"code-davinci-002\"\n",
    "    #\"code-davinci-001\"\n",
    "    #\"code-cushman-002\"\n",
    "    #\"code-cushman-001\"\n",
    "model = \"gpt-3.5-turbo\"\n",
    "\n",
    "#llm = OpenAI(temperature=0, openai_api_key=OPENAI_API_KEY)\n",
    "llm = ChatOpenAI(temperature=0, openai_api_key=OPENAI_API_KEY, model=model, streaming=True)\n",
    "\n",
    "memory = ConversationBufferMemory(memory_key=\"chat_history\", return_messages=True)\n",
    "qa_chain = RetrievalQA.from_chain_type(llm=llm, chain_type=\"stuff\", retriever=db.as_retriever())\n",
    "conversational_qa_chain = ConversationalRetrievalChain.from_llm(llm=llm, retriever=db.as_retriever(), memory=memory)"
   ]
  },
  {
   "attachments": {},
   "cell_type": "markdown",
   "metadata": {},
   "source": [
    "## Gradio UI"
   ]
  },
  {
   "cell_type": "code",
   "execution_count": null,
   "metadata": {},
   "outputs": [],
   "source": [
    "import gradio as gr\n",
    "\n",
    "def answer_question(question):\n",
    "    question_result = conversational_qa_chain({\"question\": question})\n",
    "    return question_result[\"answer\"]\n",
    "\n",
    "QA_Interface = gr.Interface(fn=answer_question, \n",
    "    inputs=\"text\", \n",
    "    outputs=\"text\",\n",
    "    layout=\"vertical\"\n",
    "    )\n",
    "\n",
    "with gr.Blocks() as chat_ui:\n",
    "    chatbot = gr.Chatbot()\n",
    "    msg = gr.Textbox()\n",
    "    clear = gr.ClearButton([msg, chatbot])\n",
    "\n",
    "    def respond(message, chat_history):\n",
    "        bot_message = answer_question(message)\n",
    "        chat_history.append((message, bot_message))\n",
    "        return \"\", chat_history\n",
    "\n",
    "    msg.submit(respond, [msg, chatbot], [msg, chatbot])\n",
    "\n",
    "chat_ui.launch()\n",
    "\n"
   ]
  }
 ],
 "metadata": {
  "kernelspec": {
   "display_name": "Python 3",
   "language": "python",
   "name": "python3"
  },
  "language_info": {
   "codemirror_mode": {
    "name": "ipython",
    "version": 3
   },
   "file_extension": ".py",
   "mimetype": "text/x-python",
   "name": "python",
   "nbconvert_exporter": "python",
   "pygments_lexer": "ipython3",
   "version": "3.9.17"
  },
  "orig_nbformat": 4
 },
 "nbformat": 4,
 "nbformat_minor": 2
}
