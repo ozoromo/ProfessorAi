{
 "cells": [
  {
   "attachments": {},
   "cell_type": "markdown",
   "metadata": {},
   "source": [
    "A simple notebook to Extract Sound from videos and transscriebe it using OpenAI whisper"
   ]
  },
  {
   "cell_type": "code",
   "execution_count": null,
   "metadata": {},
   "outputs": [],
   "source": [
    "# Split audio from video\n",
    "def convert_video_to_audio_ffmpeg(video_file, output_ext=\"mp3\"):\n",
    "    \"\"\"Converts video to audio directly using `ffmpeg` command\n",
    "    with the help of subprocess module\"\"\"\n",
    "    filename, ext = os.path.splitext(video_file)\n",
    "    subprocess.call([\"ffmpeg\", \"-y\", \"-i\", video_file, f\"{filename}.{output_ext}\"], \n",
    "                    stdout=subprocess.DEVNULL)\n",
    "\n",
    "# Loop through all files in the sample-files directory\n",
    "for root, dirs, files in os.walk(\"./sample-files/DS-VL/audios/\"):\n",
    "    for file in files:\n",
    "        if (file.endswith(\".mp4\")):\n",
    "            print(f\"Converting {root + file}\")\n",
    "            convert_video_to_audio_ffmpeg(os.path.join(root, file))"
   ]
  },
  {
   "cell_type": "code",
   "execution_count": null,
   "metadata": {},
   "outputs": [],
   "source": [
    "import whisper\n",
    "import os\n",
    "model = whisper.load_model(\"large\")"
   ]
  },
  {
   "cell_type": "code",
   "execution_count": null,
   "metadata": {},
   "outputs": [],
   "source": [
    "for root, dirs, files in os.walk(\"./audios/\"):\n",
    "    for file in files:\n",
    "        if (file.endswith(\".mp3\")):\n",
    "            result = model.transcribe(os.path.join(root, file), verbose = True)\n",
    "            filename, ext = os.path.splitext(os.path.join(root, file))\n",
    "            with open(f'{filename}.txt', 'w') as f:\n",
    "                f.write(result[\"text\"])\n",
    "            break;"
   ]
  }
 ],
 "metadata": {
  "kernelspec": {
   "display_name": ".venv",
   "language": "python",
   "name": "python3"
  },
  "language_info": {
   "codemirror_mode": {
    "name": "ipython",
    "version": 3
   },
   "file_extension": ".py",
   "mimetype": "text/x-python",
   "name": "python",
   "nbconvert_exporter": "python",
   "pygments_lexer": "ipython3",
   "version": "3.9.17"
  },
  "orig_nbformat": 4
 },
 "nbformat": 4,
 "nbformat_minor": 2
}
