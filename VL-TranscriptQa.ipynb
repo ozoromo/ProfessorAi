{
 "cells": [
  {
   "attachments": {},
   "cell_type": "markdown",
   "metadata": {},
   "source": [
    "# LibrarianAI\n",
    "A notebook used to store transcrition data in online and local storage as embeddings."
   ]
  },
  {
   "cell_type": "code",
   "execution_count": 1,
   "metadata": {},
   "outputs": [
    {
     "name": "stderr",
     "output_type": "stream",
     "text": [
      "/home/ozoromo/Documents/Projects/ai/langchain-experiments/.venv/lib/python3.9/site-packages/pinecone/index.py:4: TqdmExperimentalWarning: Using `tqdm.autonotebook.tqdm` in notebook mode. Use `tqdm.tqdm` instead to force console mode (e.g. in jupyter console)\n",
      "  from tqdm.autonotebook import tqdm\n"
     ]
    }
   ],
   "source": [
    "import ipywidgets as widgets\n",
    "import langchain\n",
    "import pinecone\n",
    "import openai\n",
    "import tiktoken\n",
    "import os"
   ]
  },
  {
   "attachments": {},
   "cell_type": "markdown",
   "metadata": {},
   "source": [
    "## All important values here\n",
    "## Alle wichtigen Werte hier"
   ]
  },
  {
   "cell_type": "code",
   "execution_count": 2,
   "metadata": {},
   "outputs": [
    {
     "data": {
      "application/vnd.jupyter.widget-view+json": {
       "model_id": "7328054082754550a43df84671662a76",
       "version_major": 2,
       "version_minor": 0
      },
      "text/plain": [
       "Password(description='OpenAI API Key', placeholder='', style=TextStyle(description_width='initial'))"
      ]
     },
     "metadata": {},
     "output_type": "display_data"
    }
   ],
   "source": [
    "\n",
    "openai_api_key_widget = widgets.Password(\"OPENAI_API_KEY\", placeholder=\"\", description=\"OpenAI API Key\", style= {'description_width': 'initial'})\n",
    "openai_api_key_widget.value =  \"\"\n",
    "display(openai_api_key_widget)"
   ]
  },
  {
   "cell_type": "code",
   "execution_count": 3,
   "metadata": {},
   "outputs": [],
   "source": [
    "# IMPORTANT Only run this if you want to set your keys using environment variables\n",
    "OPENAI_API_KEY = os.environ.get(\"OPENAI_API_KEY\")\n",
    "PINECONE_API = os.environ.get(\"PINECONE_API_KEY\")\n",
    "PINCONE_ENV = os.environ.get(\"PINECONE_API_ENV\")"
   ]
  },
  {
   "cell_type": "code",
   "execution_count": 4,
   "metadata": {},
   "outputs": [],
   "source": [
    "pinecone.init(\n",
    "    api_key=PINECONE_API,\n",
    "    environment=PINCONE_ENV\n",
    ")"
   ]
  },
  {
   "cell_type": "code",
   "execution_count": 5,
   "metadata": {},
   "outputs": [],
   "source": [
    "from langchain.embeddings.openai import OpenAIEmbeddings\n",
    "from langchain.text_splitter import RecursiveCharacterTextSplitter\n",
    "from langchain.vectorstores import Chroma\n",
    "from langchain.vectorstores import Pinecone\n",
    "from langchain.document_loaders import TextLoader"
   ]
  },
  {
   "cell_type": "code",
   "execution_count": 6,
   "metadata": {},
   "outputs": [],
   "source": [
    "embedding_engine = OpenAIEmbeddings(openai_api_key=OPENAI_API_KEY)\n",
    "text_splitter = RecursiveCharacterTextSplitter(chunk_size=2000, chunk_overlap=200)\n",
    "\n",
    "db = Chroma(embedding_function=embedding_engine, persist_directory=\"./transcription_db/\")\n",
    "pinecone_db = Pinecone.from_existing_index(embedding=embedding_engine, index_name=\"diskstrukt2023\")"
   ]
  },
  {
   "cell_type": "code",
   "execution_count": 8,
   "metadata": {},
   "outputs": [],
   "source": [
    "for root, dirs, files in os.walk(\"./transcripts/\"):\n",
    "    for file in files:\n",
    "        if (file.endswith(\".txt\")):\n",
    "            # load the document and split it into chunks\n",
    "            loader = TextLoader(os.path.join(root, file))\n",
    "            document = loader.load()\n",
    "            docs = text_splitter.split_documents(document)\n",
    "\n",
    "\n",
    "            db.add_documents(docs)\n",
    "            texts = []\n",
    "            for doc in docs:\n",
    "                pass\n",
    "                #pinecone_db.add_texts(texts=[doc.page_content], metadata={\"text\": doc.page_content})"
   ]
  },
  {
   "cell_type": "code",
   "execution_count": null,
   "metadata": {},
   "outputs": [
    {
     "name": "stdout",
     "output_type": "stream",
     "text": [
      "Wir kommen zurück zu diskrete Strukturen. Wir sind immer noch im Kapitel Kombinatorik, das heißt wir befassen uns immer noch damit, Dinge zu zählen bzw. Kardinalitäten von Mengen auszurechnen. Heute soll es noch mal ein bisschen um Binomialkoeffizienten gehen und dann beschäftigen wir uns auch noch mit der Anzahl Möglichkeiten, Mengen aufzuteilen in sogenannte Partitionen. Zunächst beschäftigen wir uns mit dem paskalschen Dreieck, benannt nach Blaise Pascal. Dazu habe ich Ihnen hier noch mal kurz die Wiederholung aufgeschrieben. Ich bin mir nicht 100% sicher, ob wir das schon mal gesehen haben, dass n über k dasselbe ist wie n über n-k. Wenn wir das noch nicht gesehen haben, können Sie sich dieses auch relativ link herleiten. Also müssen Sie sich eigentlich nur vergegenwärtigen, dass das bedeutet nFakultät durch kFakultät mal n-kFakultät. Das hier bedeutet nFakultät durch n-kFakultät, n-n-kFakultät. Das ist das gleiche wie das hier. Das ist n-n-kFakultät. Das ist einfach kFakultät und jetzt steht hier auf beiden Seiten derselbe Bruch. Aber wir können Binomialkoeffizienten auch anders charakterisieren, nämlich mit Hilfe des Satzes von Pascal, beziehungsweise vom Satz über das paskalsche Dreieck. Der sagt, dass für alle k und n aus n mit k kleiner, also echt kleiner n, gilt, dass der Binomialkoeffizient n über k dasselbe also sich zusammensetzt aus der Summe von dem Binomialkoeffizienten n-1 über k-1 und n-1 über k. Das heißt, Sie können die Berechnung eines Binomialkoeffizienten zurückführen auf die Berechnung von Binomialkoeffizienten mit kleineren Einträgen. Bis zum Punkt, wo n gleich k plus 1 ist. Und wenn n gleich k plus 1 ist, ist das hier a über k, dieser hintere Teil, und k über k wissen wir als 1. Auf diese Art und Weise könnten Sie auch den Binomialkoeffizienten rekursiv berechnen. Der Satz lässt sich relativ straightforward zeigen, indem man die Definition des Binomialkoeffizienten mit den Fakultäten einsetzt, also links den Binomialkoeffizienten ersetzt\n"
     ]
    }
   ],
   "source": [
    "querry = \"Was ist ein binominalkoeffizient?\"\n",
    "docs = pinecone_db.similarity_search(query=querry)\n",
    "print(docs[0].page_content)"
   ]
  },
  {
   "attachments": {},
   "cell_type": "markdown",
   "metadata": {},
   "source": [
    "Save the do in order to be able to use it later and upload it."
   ]
  },
  {
   "cell_type": "code",
   "execution_count": null,
   "metadata": {},
   "outputs": [],
   "source": [
    "db.persist()"
   ]
  }
 ],
 "metadata": {
  "kernelspec": {
   "display_name": ".venv",
   "language": "python",
   "name": "python3"
  },
  "language_info": {
   "codemirror_mode": {
    "name": "ipython",
    "version": 3
   },
   "file_extension": ".py",
   "mimetype": "text/x-python",
   "name": "python",
   "nbconvert_exporter": "python",
   "pygments_lexer": "ipython3",
   "version": "3.9.17"
  },
  "orig_nbformat": 4
 },
 "nbformat": 4,
 "nbformat_minor": 2
}
